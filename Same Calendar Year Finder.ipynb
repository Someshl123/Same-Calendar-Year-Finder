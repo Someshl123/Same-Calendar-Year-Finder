{
 "cells": [
  {
   "cell_type": "code",
   "execution_count": 2,
   "id": "a454df37",
   "metadata": {},
   "outputs": [
    {
     "name": "stdout",
     "output_type": "stream",
     "text": [
      "Enter a year: 2020\n",
      "Years with the same calendar as 2020:\n",
      "[1908, 1936, 1964, 1992, 2048, 2076]\n"
     ]
    }
   ],
   "source": [
    "import calendar\n",
    "\n",
    "def have_same_calendar(year1, year2):\n",
    "    if calendar.isleap(year1) != calendar.isleap(year2):\n",
    "        return False\n",
    "    for month in range(1, 13):\n",
    "        if calendar.monthcalendar(year1, month) != calendar.monthcalendar(year2, month):\n",
    "            return False\n",
    "    return True\n",
    "\n",
    "def find_same_calendar_years(input_year, start_year=1900, end_year=2100):\n",
    "    same_years = []\n",
    "    for year in range(start_year, end_year + 1):\n",
    "        if year != input_year and have_same_calendar(input_year, year):\n",
    "            same_years.append(year)\n",
    "    return same_years\n",
    "\n",
    "# Input year from user\n",
    "input_year = int(input(\"Enter a year: \"))\n",
    "matching_years = find_same_calendar_years(input_year)\n",
    "\n",
    "print(f\"Years with the same calendar as {input_year}:\")\n",
    "print(matching_years)\n"
   ]
  },
  {
   "cell_type": "code",
   "execution_count": null,
   "id": "3ca7a19a",
   "metadata": {},
   "outputs": [],
   "source": []
  }
 ],
 "metadata": {
  "kernelspec": {
   "display_name": "Python 3 (ipykernel)",
   "language": "python",
   "name": "python3"
  },
  "language_info": {
   "codemirror_mode": {
    "name": "ipython",
    "version": 3
   },
   "file_extension": ".py",
   "mimetype": "text/x-python",
   "name": "python",
   "nbconvert_exporter": "python",
   "pygments_lexer": "ipython3",
   "version": "3.11.5"
  }
 },
 "nbformat": 4,
 "nbformat_minor": 5
}
